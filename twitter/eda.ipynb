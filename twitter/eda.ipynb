{
 "cells": [
  {
   "cell_type": "code",
   "execution_count": 2,
   "metadata": {},
   "outputs": [],
   "source": [
    "import numpy as np\n",
    "import matplotlib.pyplot as plt\n",
    "import pandas as pd"
   ]
  },
  {
   "cell_type": "code",
   "execution_count": 4,
   "metadata": {},
   "outputs": [],
   "source": [
    "tweets = pd.read_excel(\"./data/authored_politician_tweets_10_1.xlsx\")"
   ]
  },
  {
   "cell_type": "code",
   "execution_count": 6,
   "metadata": {},
   "outputs": [
    {
     "data": {
      "text/html": [
       "<div>\n",
       "<style scoped>\n",
       "    .dataframe tbody tr th:only-of-type {\n",
       "        vertical-align: middle;\n",
       "    }\n",
       "\n",
       "    .dataframe tbody tr th {\n",
       "        vertical-align: top;\n",
       "    }\n",
       "\n",
       "    .dataframe thead th {\n",
       "        text-align: right;\n",
       "    }\n",
       "</style>\n",
       "<table border=\"1\" class=\"dataframe\">\n",
       "  <thead>\n",
       "    <tr style=\"text-align: right;\">\n",
       "      <th></th>\n",
       "      <th>id</th>\n",
       "      <th>tweet_url</th>\n",
       "      <th>created_at</th>\n",
       "      <th>parsed_created_at</th>\n",
       "      <th>user_screen_name</th>\n",
       "      <th>text</th>\n",
       "      <th>tweet_type</th>\n",
       "      <th>coordinates</th>\n",
       "      <th>hashtags</th>\n",
       "      <th>media</th>\n",
       "      <th>...</th>\n",
       "      <th>user_favourites_count</th>\n",
       "      <th>user_followers_count</th>\n",
       "      <th>user_friends_count</th>\n",
       "      <th>user_listed_count</th>\n",
       "      <th>user_location</th>\n",
       "      <th>user_name</th>\n",
       "      <th>user_statuses_count</th>\n",
       "      <th>user_time_zone</th>\n",
       "      <th>user_urls</th>\n",
       "      <th>user_verified</th>\n",
       "    </tr>\n",
       "  </thead>\n",
       "  <tbody>\n",
       "    <tr>\n",
       "      <th>0</th>\n",
       "      <td>1576286575704547328</td>\n",
       "      <td>https://twitter.com/wileynickel/status/1576286...</td>\n",
       "      <td>Sat Oct 01 19:03:00 +0000 2022</td>\n",
       "      <td>2022-10-01T19:03:00+00:00</td>\n",
       "      <td>wileynickel</td>\n",
       "      <td>Know any potential new North Carolina voters? ...</td>\n",
       "      <td>original</td>\n",
       "      <td>NaN</td>\n",
       "      <td>NaN</td>\n",
       "      <td>NaN</td>\n",
       "      <td>...</td>\n",
       "      <td>25004</td>\n",
       "      <td>38847</td>\n",
       "      <td>649</td>\n",
       "      <td>182</td>\n",
       "      <td>North Carolina</td>\n",
       "      <td>Wiley Nickel for Congress</td>\n",
       "      <td>11220</td>\n",
       "      <td>NaN</td>\n",
       "      <td>http://www.wileynickelforcongress.com</td>\n",
       "      <td>True</td>\n",
       "    </tr>\n",
       "    <tr>\n",
       "      <th>1</th>\n",
       "      <td>1576272483648667648</td>\n",
       "      <td>https://twitter.com/wileynickel/status/1576272...</td>\n",
       "      <td>Sat Oct 01 18:07:00 +0000 2022</td>\n",
       "      <td>2022-10-01T18:07:00+00:00</td>\n",
       "      <td>wileynickel</td>\n",
       "      <td>The Cook Political Report has our race listed ...</td>\n",
       "      <td>original</td>\n",
       "      <td>NaN</td>\n",
       "      <td>NC13</td>\n",
       "      <td>https://pbs.twimg.com/media/FeALeCkXgAQjh-k.jpg</td>\n",
       "      <td>...</td>\n",
       "      <td>25004</td>\n",
       "      <td>38847</td>\n",
       "      <td>649</td>\n",
       "      <td>182</td>\n",
       "      <td>North Carolina</td>\n",
       "      <td>Wiley Nickel for Congress</td>\n",
       "      <td>11220</td>\n",
       "      <td>NaN</td>\n",
       "      <td>http://www.wileynickelforcongress.com</td>\n",
       "      <td>True</td>\n",
       "    </tr>\n",
       "    <tr>\n",
       "      <th>2</th>\n",
       "      <td>1576261081793982464</td>\n",
       "      <td>https://twitter.com/wileynickel/status/1576261...</td>\n",
       "      <td>Sat Oct 01 17:21:42 +0000 2022</td>\n",
       "      <td>2022-10-01T17:21:42+00:00</td>\n",
       "      <td>wileynickel</td>\n",
       "      <td>Say hello to Daisy Belle, our newest #TeamWile...</td>\n",
       "      <td>original</td>\n",
       "      <td>NaN</td>\n",
       "      <td>TeamWiley TeamWiley</td>\n",
       "      <td>https://pbs.twimg.com/media/FeABGX3XwAYuLIy.jpg</td>\n",
       "      <td>...</td>\n",
       "      <td>25004</td>\n",
       "      <td>38847</td>\n",
       "      <td>649</td>\n",
       "      <td>182</td>\n",
       "      <td>North Carolina</td>\n",
       "      <td>Wiley Nickel for Congress</td>\n",
       "      <td>11220</td>\n",
       "      <td>NaN</td>\n",
       "      <td>http://www.wileynickelforcongress.com</td>\n",
       "      <td>True</td>\n",
       "    </tr>\n",
       "    <tr>\n",
       "      <th>3</th>\n",
       "      <td>1576253817078763520</td>\n",
       "      <td>https://twitter.com/wileynickel/status/1576253...</td>\n",
       "      <td>Sat Oct 01 16:52:50 +0000 2022</td>\n",
       "      <td>2022-10-01T16:52:50+00:00</td>\n",
       "      <td>wileynickel</td>\n",
       "      <td>The Garner Firemen's Festival parade was cance...</td>\n",
       "      <td>original</td>\n",
       "      <td>NaN</td>\n",
       "      <td>NaN</td>\n",
       "      <td>https://pbs.twimg.com/media/Fd_6e12XoAAL1kY.jp...</td>\n",
       "      <td>...</td>\n",
       "      <td>25004</td>\n",
       "      <td>38847</td>\n",
       "      <td>649</td>\n",
       "      <td>182</td>\n",
       "      <td>North Carolina</td>\n",
       "      <td>Wiley Nickel for Congress</td>\n",
       "      <td>11220</td>\n",
       "      <td>NaN</td>\n",
       "      <td>http://www.wileynickelforcongress.com</td>\n",
       "      <td>True</td>\n",
       "    </tr>\n",
       "    <tr>\n",
       "      <th>4</th>\n",
       "      <td>1576225926295085057</td>\n",
       "      <td>https://twitter.com/wileynickel/status/1576225...</td>\n",
       "      <td>Sat Oct 01 15:02:00 +0000 2022</td>\n",
       "      <td>2022-10-01T15:02:00+00:00</td>\n",
       "      <td>wileynickel</td>\n",
       "      <td>The Roe v Wade decision goes against the will ...</td>\n",
       "      <td>original</td>\n",
       "      <td>NaN</td>\n",
       "      <td>RoevWade</td>\n",
       "      <td>https://pbs.twimg.com/media/FdmMpUgXoAIdF0r.jpg</td>\n",
       "      <td>...</td>\n",
       "      <td>25004</td>\n",
       "      <td>38847</td>\n",
       "      <td>649</td>\n",
       "      <td>182</td>\n",
       "      <td>North Carolina</td>\n",
       "      <td>Wiley Nickel for Congress</td>\n",
       "      <td>11220</td>\n",
       "      <td>NaN</td>\n",
       "      <td>http://www.wileynickelforcongress.com</td>\n",
       "      <td>True</td>\n",
       "    </tr>\n",
       "  </tbody>\n",
       "</table>\n",
       "<p>5 rows × 37 columns</p>\n",
       "</div>"
      ],
      "text/plain": [
       "                    id                                          tweet_url  \\\n",
       "0  1576286575704547328  https://twitter.com/wileynickel/status/1576286...   \n",
       "1  1576272483648667648  https://twitter.com/wileynickel/status/1576272...   \n",
       "2  1576261081793982464  https://twitter.com/wileynickel/status/1576261...   \n",
       "3  1576253817078763520  https://twitter.com/wileynickel/status/1576253...   \n",
       "4  1576225926295085057  https://twitter.com/wileynickel/status/1576225...   \n",
       "\n",
       "                       created_at          parsed_created_at user_screen_name  \\\n",
       "0  Sat Oct 01 19:03:00 +0000 2022  2022-10-01T19:03:00+00:00      wileynickel   \n",
       "1  Sat Oct 01 18:07:00 +0000 2022  2022-10-01T18:07:00+00:00      wileynickel   \n",
       "2  Sat Oct 01 17:21:42 +0000 2022  2022-10-01T17:21:42+00:00      wileynickel   \n",
       "3  Sat Oct 01 16:52:50 +0000 2022  2022-10-01T16:52:50+00:00      wileynickel   \n",
       "4  Sat Oct 01 15:02:00 +0000 2022  2022-10-01T15:02:00+00:00      wileynickel   \n",
       "\n",
       "                                                text tweet_type coordinates  \\\n",
       "0  Know any potential new North Carolina voters? ...   original         NaN   \n",
       "1  The Cook Political Report has our race listed ...   original         NaN   \n",
       "2  Say hello to Daisy Belle, our newest #TeamWile...   original         NaN   \n",
       "3  The Garner Firemen's Festival parade was cance...   original         NaN   \n",
       "4  The Roe v Wade decision goes against the will ...   original         NaN   \n",
       "\n",
       "              hashtags                                              media  \\\n",
       "0                  NaN                                                NaN   \n",
       "1                 NC13    https://pbs.twimg.com/media/FeALeCkXgAQjh-k.jpg   \n",
       "2  TeamWiley TeamWiley    https://pbs.twimg.com/media/FeABGX3XwAYuLIy.jpg   \n",
       "3                  NaN  https://pbs.twimg.com/media/Fd_6e12XoAAL1kY.jp...   \n",
       "4             RoevWade    https://pbs.twimg.com/media/FdmMpUgXoAIdF0r.jpg   \n",
       "\n",
       "   ... user_favourites_count  user_followers_count user_friends_count  \\\n",
       "0  ...                 25004                 38847                649   \n",
       "1  ...                 25004                 38847                649   \n",
       "2  ...                 25004                 38847                649   \n",
       "3  ...                 25004                 38847                649   \n",
       "4  ...                 25004                 38847                649   \n",
       "\n",
       "   user_listed_count   user_location                  user_name  \\\n",
       "0                182  North Carolina  Wiley Nickel for Congress   \n",
       "1                182  North Carolina  Wiley Nickel for Congress   \n",
       "2                182  North Carolina  Wiley Nickel for Congress   \n",
       "3                182  North Carolina  Wiley Nickel for Congress   \n",
       "4                182  North Carolina  Wiley Nickel for Congress   \n",
       "\n",
       "  user_statuses_count  user_time_zone                              user_urls  \\\n",
       "0               11220             NaN  http://www.wileynickelforcongress.com   \n",
       "1               11220             NaN  http://www.wileynickelforcongress.com   \n",
       "2               11220             NaN  http://www.wileynickelforcongress.com   \n",
       "3               11220             NaN  http://www.wileynickelforcongress.com   \n",
       "4               11220             NaN  http://www.wileynickelforcongress.com   \n",
       "\n",
       "   user_verified  \n",
       "0           True  \n",
       "1           True  \n",
       "2           True  \n",
       "3           True  \n",
       "4           True  \n",
       "\n",
       "[5 rows x 37 columns]"
      ]
     },
     "execution_count": 6,
     "metadata": {},
     "output_type": "execute_result"
    }
   ],
   "source": [
    "tweets.head()"
   ]
  },
  {
   "cell_type": "code",
   "execution_count": 11,
   "metadata": {},
   "outputs": [],
   "source": [
    "tweets_by_accounts = tweets.groupby(['user_screen_name']).agg({\"id\":\"count\"})"
   ]
  },
  {
   "cell_type": "code",
   "execution_count": 24,
   "metadata": {},
   "outputs": [],
   "source": [
    "party_map = {'wileynickel':'Democrat', 'BoHines':\"Republican\", 'Yvette4congress':\"Republican\", 'RepHerrell':\"Republican\",\n",
    "       'Gabe_NM':'Democrat', 'VoteAprilBecker':\"Republican\", 'SusieLeeNV':'Democrat', 'RepSusieLee':'Democrat',\n",
    "       'KistnerCongress':\"Republican\", 'AngieCraigMN':'Democrat', 'RepAngieCraig':'Democrat', 'RepGolden':'Democrat',\n",
    "       'RepDavids':'Democrat', 'sharicedavids':'Democrat', 'amanda_adkins':\"Republican\", 'esther4congress':\"Republican\",\n",
    "       'ERICSORENSEN':'Democrat', 'YadiraCaraveo':'Democrat', 'Kirkmeyer4CO':\"Republican\", 'RepOHalleran':'Democrat',\n",
    "       'EliCraneAZ':\"Republican\", 'NBegich':\"Republican\", 'MaryPeltola':'Democrat', 'SarahPalinUSA':\"Republican\",\n",
    "       'EvanMcMullin':\"Independent\", 'SenMikeLee':\"Republican\", 'GenDonBolduc':\"Republican\", 'SenatorHassan':'Democrat',\n",
    "       'DrOz':\"Republican\", 'JohnFetterman':'Democrat', 'RepTimRyan':'Democrat', 'JDVance1':\"Republican\",\n",
    "       'CheriBeasleyNC':'Democrat', 'TedBuddNC':\"Republican\", 'RepTedBudd':\"Republican\", 'HerschelWalker':\"Republican\",\n",
    "       'SenatorWarnock':'Democrat', 'RepValDemings':'Democrat', 'marcorubio':\"Republican\", 'bgmasters':\"Republican\",\n",
    "       'SenMarkKelly':'Democrat', 'AdamLaxalt':\"Republican\", 'SenCortezMasto':'Democrat', 'TheOtherMandela':'Democrat',\n",
    "       'SenRonJohnson':\"Republican\"}"
   ]
  },
  {
   "cell_type": "code",
   "execution_count": 25,
   "metadata": {},
   "outputs": [],
   "source": [
    "tweets_by_accounts.reset_index(inplace=True)"
   ]
  },
  {
   "cell_type": "code",
   "execution_count": 26,
   "metadata": {},
   "outputs": [],
   "source": [
    "tweets_by_accounts['party'] = tweets_by_accounts['user_screen_name'].map(party_map)"
   ]
  },
  {
   "cell_type": "code",
   "execution_count": 33,
   "metadata": {},
   "outputs": [],
   "source": [
    "dem_tweet_counts = tweets_by_accounts.loc[tweets_by_accounts['party'] == 'Democrat']['id']\n",
    "rep_tweet_counts = tweets_by_accounts.loc[tweets_by_accounts['party'] == 'Republican']['id']\n",
    "ind_tweet_counts = tweets_by_accounts.loc[tweets_by_accounts['party'] == 'Independent']['id']"
   ]
  },
  {
   "cell_type": "code",
   "execution_count": 43,
   "metadata": {},
   "outputs": [
    {
     "data": {
      "text/plain": [
       "Text(0.5, 1.0, 'Number of Tweets per Account')"
      ]
     },
     "execution_count": 43,
     "metadata": {},
     "output_type": "execute_result"
    },
    {
     "data": {
      "image/png": "[encoded data removed]",
      "text/plain": [
       "<Figure size 360x288 with 1 Axes>"
      ]
     },
     "metadata": {
      "needs_background": "light"
     },
     "output_type": "display_data"
    }
   ],
   "source": [
    "fig_1 = plt.figure(figsize = (5,4))\n",
    "colors = ['blue','red','yellow']\n",
    "axes_1 = fig_1.add_axes([0.1,0.1,0.9,0.9])\n",
    "axes_1.hist([dem_tweet_counts, rep_tweet_counts, ind_tweet_counts], bins = 6, color = colors, label = [\"Democrat\", \"Republican\", \"Independent\"], align = 'right')\n",
    "axes_1.legend(loc=0)\n",
    "axes_1.set_xlabel(\"Num Tweets\")\n",
    "axes_1.set_title(\"Number of Tweets per Account\")\n"
   ]
  },
  {
   "cell_type": "code",
   "execution_count": 31,
   "metadata": {},
   "outputs": [
    {
     "data": {
      "text/plain": [
       "array([[ 0.28964527,  0.63824153, -0.32065923],\n",
       "       [ 0.66834383, -0.96091398, -2.70651038],\n",
       "       [-1.40047373,  2.48516634,  2.16189738],\n",
       "       ...,\n",
       "       [-0.32409239, -0.72433669,  0.7391371 ],\n",
       "       [ 0.43329008, -0.02918643, -1.55318459],\n",
       "       [-0.56723217,  0.49481194, -0.97302001]])"
      ]
     },
     "execution_count": 31,
     "metadata": {},
     "output_type": "execute_result"
    }
   ],
   "source": [
    "np.random.randn(1000, 3)"
   ]
  }
 ],
 "metadata": {
  "kernelspec": {
   "display_name": "Python 3.8.8 ('base')",
   "language": "python",
   "name": "python3"
  },
  "language_info": {
   "codemirror_mode": {
    "name": "ipython",
    "version": 3
   },
   "file_extension": ".py",
   "mimetype": "text/x-python",
   "name": "python",
   "nbconvert_exporter": "python",
   "pygments_lexer": "ipython3",
   "version": "3.8.8"
  },
  "orig_nbformat": 4,
  "vscode": {
   "interpreter": {
    "hash": "640d00b95a352269a4e7ae55080159724b5d84d0a2bea37c58cf28fd7f51fdde"
   }
  }
 },
 "nbformat": 4,
 "nbformat_minor": 2
}
