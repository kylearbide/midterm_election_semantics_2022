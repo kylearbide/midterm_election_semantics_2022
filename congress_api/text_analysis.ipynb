{
 "cells": [
  {
   "cell_type": "code",
   "execution_count": 75,
   "metadata": {},
   "outputs": [],
   "source": [
    "import requests\n",
    "import sys\n",
    "import os\n",
    "import json\n",
    "from cdg_client import CDGClient\n",
    "import datetime\n",
    "from urllib.request import Request,urlopen\n",
    "import matplotlib.pyplot as plt \n",
    "import os\n",
    "import re \n",
    "import pandas as pd\n",
    "import json"
   ]
  },
  {
   "cell_type": "code",
   "execution_count": 76,
   "metadata": {},
   "outputs": [],
   "source": [
    "with open('../Records as txt/Congress_Records_2022-7-11.txt', \"r\") as f:\n",
    "    textfile = f.readlines()\n",
    "\n",
    "corpus = \" \".join(textfile)\n",
    "\n",
    "with open('../candidates_dict.json', \"r\") as f:\n",
    "    candidates_dict = json.load(f)"
   ]
  },
  {
   "cell_type": "code",
   "execution_count": 78,
   "metadata": {},
   "outputs": [],
   "source": [
    "candidates_last = [candidate['Name'].rsplit(\" \", 1)[1].upper() for candidate in candidates_dict]"
   ]
  },
  {
   "cell_type": "code",
   "execution_count": 82,
   "metadata": {},
   "outputs": [],
   "source": [
    "speech_dict = {}\n",
    "for candidate in candidates_last:\n",
    "    speech_list = []\n",
    "    transcripts = re.findall(r\"((Mrs?|Ms)\\. \" + candidate + r\"\\.)((.|\\n)*?)(?=I yield the floor\\.| The ACTING PRESIDENT|The PRESIDING OFFICER\\.|((Mrs?|Ms)\\. [A-Z]+\\.))\", corpus)\n",
    "    if transcripts:\n",
    "        for transcipt in transcripts:\n",
    "            speech_list.append(transcipt[2])\n",
    "        speech_dict.update({candidate:speech_list})"
   ]
  },
  {
   "cell_type": "code",
   "execution_count": 86,
   "metadata": {},
   "outputs": [],
   "source": [
    "name = re.findall(r\"Mr\\. RYAN\\.\", corpus)"
   ]
  },
  {
   "cell_type": "code",
   "execution_count": 87,
   "metadata": {},
   "outputs": [
    {
     "data": {
      "text/plain": [
       "1"
      ]
     },
     "execution_count": 87,
     "metadata": {},
     "output_type": "execute_result"
    }
   ],
   "source": [
    "len(name)"
   ]
  }
 ],
 "metadata": {
  "kernelspec": {
   "display_name": "Python 3.9.13 ('youtube_speeches')",
   "language": "python",
   "name": "python3"
  },
  "language_info": {
   "codemirror_mode": {
    "name": "ipython",
    "version": 3
   },
   "file_extension": ".py",
   "mimetype": "text/x-python",
   "name": "python",
   "nbconvert_exporter": "python",
   "pygments_lexer": "ipython3",
   "version": "3.9.13"
  },
  "orig_nbformat": 4,
  "vscode": {
   "interpreter": {
    "hash": "49286e8df619aa3fd18272ea6a90ce6bf9912e6540cc2e018f6f0bb211e2e8bc"
   }
  }
 },
 "nbformat": 4,
 "nbformat_minor": 2
}
