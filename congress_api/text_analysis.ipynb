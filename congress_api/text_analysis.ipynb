{
 "cells": [
  {
   "cell_type": "code",
   "execution_count": 1,
   "metadata": {},
   "outputs": [],
   "source": [
    "import requests\n",
    "import sys\n",
    "import os\n",
    "import json\n",
    "from cdg_client import CDGClient\n",
    "import datetime\n",
    "from urllib.request import Request,urlopen\n",
    "import matplotlib.pyplot as plt \n",
    "import os\n",
    "import re \n",
    "import pandas as pd\n",
    "import json"
   ]
  },
  {
   "cell_type": "code",
   "execution_count": 85,
   "metadata": {},
   "outputs": [],
   "source": [
    "with open('../Records as txt/Congress_Records_2022-7-14.txt', \"r\", encoding=\"utf8\") as f:\n",
    "    textfile = f.readlines()\n",
    "\n",
    "corpus = \" \".join(textfile)\n",
    "\n",
    "with open('../candidates_dict.json', \"r\") as f:\n",
    "    candidates_dict = json.load(f)"
   ]
  },
  {
   "cell_type": "code",
   "execution_count": 86,
   "metadata": {},
   "outputs": [],
   "source": [
    "candidates_last = [candidate['Name'].rsplit(\" \", 1)[1].upper() for candidate in candidates_dict]"
   ]
  },
  {
   "cell_type": "code",
   "execution_count": 87,
   "metadata": {},
   "outputs": [],
   "source": [
    "def splitText(candidate, corpus):\n",
    "    candidate = candidate.rsplit(\" \", 1)[1].upper()\n",
    "    speech_list = []\n",
    "    transcripts = re.findall(r\"(\\n (Mrs?|Ms)\\. \" + candidate + r\"\\.)((.|\\n)*?)(?=I yield (the floor\\.|back the balance)| The ACTING PRESIDENT|The PRESIDING OFFICER\\.|((Mrs?|Ms)\\. [A-Z]+( of [A-Z][a-z]+)?\\.)|\\n H\\. Res\\.|\\n H\\.R\\.)\", corpus)\n",
    "    if transcripts:\n",
    "        for transcipt in transcripts:\n",
    "            speech_list.append(transcipt[2])\n",
    "        return(speech_list)\n",
    "    return(None)"
   ]
  },
  {
   "cell_type": "code",
   "execution_count": 88,
   "metadata": {},
   "outputs": [],
   "source": [
    "splitText(\"Ron Johnson\", corpus)"
   ]
  },
  {
   "cell_type": "code",
   "execution_count": 89,
   "metadata": {},
   "outputs": [],
   "source": [
    "name = re.findall(r\"Mrs\\. DEMINGS\\.\", corpus)"
   ]
  },
  {
   "cell_type": "code",
   "execution_count": 90,
   "metadata": {},
   "outputs": [
    {
     "data": {
      "text/plain": [
       "0"
      ]
     },
     "execution_count": 90,
     "metadata": {},
     "output_type": "execute_result"
    }
   ],
   "source": [
    "len(name)"
   ]
  },
  {
   "cell_type": "code",
   "execution_count": 91,
   "metadata": {},
   "outputs": [],
   "source": [
    "all_candidates = [candidate['Name'] for candidate in candidates_dict]"
   ]
  },
  {
   "cell_type": "code",
   "execution_count": 92,
   "metadata": {},
   "outputs": [],
   "source": [
    "for file_ in os.listdir(\"../Records as txt/\"):\n",
    "    speech_list = []\n",
    "    with open(f'../Records as txt/{file_}', \"r\", encoding=\"utf8\") as f:\n",
    "        textfile = f.readlines()\n",
    "    corpus = \" \".join(textfile)\n",
    "    for candidate in all_candidates:\n",
    "        speech = splitText(candidate, corpus)\n",
    "        if speech:\n",
    "            speech_list.append({\"name\":candidate, \"speech\":speech})\n",
    "    with open(f'../parsed_cong_records/{file_.rsplit(\".\",1)[0]}.json', \"w\") as f:\n",
    "        json.dump(speech_list, f)\n",
    "    "
   ]
  }
 ],
 "metadata": {
  "kernelspec": {
   "display_name": "Python 3.9.13 ('youtube_speeches')",
   "language": "python",
   "name": "python3"
  },
  "language_info": {
   "codemirror_mode": {
    "name": "ipython",
    "version": 3
   },
   "file_extension": ".py",
   "mimetype": "text/x-python",
   "name": "python",
   "nbconvert_exporter": "python",
   "pygments_lexer": "ipython3",
   "version": "3.9.13"
  },
  "orig_nbformat": 4,
  "vscode": {
   "interpreter": {
    "hash": "49286e8df619aa3fd18272ea6a90ce6bf9912e6540cc2e018f6f0bb211e2e8bc"
   }
  }
 },
 "nbformat": 4,
 "nbformat_minor": 2
}
